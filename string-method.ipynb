{
 "cells": [
  {
   "cell_type": "code",
   "execution_count": 2,
   "id": "6fddb1f8",
   "metadata": {},
   "outputs": [
    {
     "name": "stdout",
     "output_type": "stream",
     "text": [
      "18\n",
      "True\n"
     ]
    }
   ],
   "source": [
    "string = \"Welcome to YouTube\"\n",
    "print(len(string))\n",
    "print (\"to\" in string)"
   ]
  },
  {
   "cell_type": "code",
   "execution_count": 4,
   "id": "5a0dc20b",
   "metadata": {},
   "outputs": [
    {
     "name": "stdout",
     "output_type": "stream",
     "text": [
      "hello world\n",
      "False\n",
      "6\n"
     ]
    }
   ],
   "source": [
    "string = \"Hello World\"\n",
    "processed_string =  string.lower()\n",
    "print(processed_string)\n",
    "print(\"welcome\" in processed_string)\n",
    "\n",
    "index = string.find(\"World\")\n",
    "print(index)\n"
   ]
  }
 ],
 "metadata": {
  "kernelspec": {
   "display_name": "Python 3",
   "language": "python",
   "name": "python3"
  },
  "language_info": {
   "codemirror_mode": {
    "name": "ipython",
    "version": 3
   },
   "file_extension": ".py",
   "mimetype": "text/x-python",
   "name": "python",
   "nbconvert_exporter": "python",
   "pygments_lexer": "ipython3",
   "version": "3.14.0"
  }
 },
 "nbformat": 4,
 "nbformat_minor": 5
}
