{
 "cells": [
  {
   "cell_type": "code",
   "execution_count": 3,
   "id": "507f7a1c",
   "metadata": {},
   "outputs": [
    {
     "name": "stdout",
     "output_type": "stream",
     "text": [
      "what-is-phitron?\n"
     ]
    }
   ],
   "source": [
    "promt = \"What is Phitron?\"\n",
    "promt1 = \"what-is-phitron?\"\n",
    "token = promt.split()\n",
    "token1 = promt1.split('-')\n",
    "# print(token1)\n",
    "# print(token)\n",
    "\n",
    "sententce = \"-\".join(token1)\n",
    "print(sententce)"
   ]
  }
 ],
 "metadata": {
  "kernelspec": {
   "display_name": "Python 3",
   "language": "python",
   "name": "python3"
  },
  "language_info": {
   "codemirror_mode": {
    "name": "ipython",
    "version": 3
   },
   "file_extension": ".py",
   "mimetype": "text/x-python",
   "name": "python",
   "nbconvert_exporter": "python",
   "pygments_lexer": "ipython3",
   "version": "3.14.0"
  }
 },
 "nbformat": 4,
 "nbformat_minor": 5
}
