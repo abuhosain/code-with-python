{
 "cells": [
  {
   "cell_type": "code",
   "execution_count": 1,
   "id": "86dc3341",
   "metadata": {},
   "outputs": [
    {
     "name": "stdout",
     "output_type": "stream",
     "text": [
      "Hello worold\n",
      "<class 'str'>\n"
     ]
    }
   ],
   "source": [
    "message = \"Hello worold\"\n",
    "\n",
    "print (message)\n",
    "print (type(message))"
   ]
  },
  {
   "cell_type": "code",
   "execution_count": 2,
   "id": "a83fb615",
   "metadata": {},
   "outputs": [
    {
     "name": "stdout",
     "output_type": "stream",
     "text": [
      "Hellow \n",
      "world\n",
      "Python  is fun\n"
     ]
    }
   ],
   "source": [
    "sms = \"\"\"Hellow \n",
    "world\n",
    "Python  is fun\"\"\"\n",
    "print (sms)"
   ]
  }
 ],
 "metadata": {
  "kernelspec": {
   "display_name": "Python 3",
   "language": "python",
   "name": "python3"
  },
  "language_info": {
   "codemirror_mode": {
    "name": "ipython",
    "version": 3
   },
   "file_extension": ".py",
   "mimetype": "text/x-python",
   "name": "python",
   "nbconvert_exporter": "python",
   "pygments_lexer": "ipython3",
   "version": "3.14.0"
  }
 },
 "nbformat": 4,
 "nbformat_minor": 5
}
