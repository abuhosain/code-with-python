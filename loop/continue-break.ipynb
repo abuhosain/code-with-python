{
 "cells": [
  {
   "cell_type": "code",
   "execution_count": null,
   "id": "2bd93768",
   "metadata": {},
   "outputs": [
    {
     "name": "stdout",
     "output_type": "stream",
     "text": [
      "Sum of first 10 natural numbers is: 1\n",
      "Sum of first 10 natural numbers is: 3\n",
      "Sum of first 10 natural numbers is: 6\n",
      "Sum of first 10 natural numbers is: 10\n",
      "Sum of first 10 natural numbers is: 15\n",
      "Sum of first 10 natural numbers is: 21\n",
      "Sum of first 10 natural numbers is: 28\n",
      "Sum of first 10 natural numbers is: 36\n",
      "Sum of first 10 natural numbers is: 45\n",
      "Sum of first 10 natural numbers is: 55\n",
      "55\n"
     ]
    }
   ],
   "source": [
    "sum = 0\n",
    "for i in range(1, 5):\n",
    "    if i % 2 == 0: # Skip even numbers\n",
    "        continue\n",
    "    sum += i\n",
    "    print(\"Sum of first 10 natural numbers is:\", sum)\n",
    "\n",
    "print(sum)\n"
   ]
  }
 ],
 "metadata": {
  "kernelspec": {
   "display_name": "Python 3",
   "language": "python",
   "name": "python3"
  },
  "language_info": {
   "codemirror_mode": {
    "name": "ipython",
    "version": 3
   },
   "file_extension": ".py",
   "mimetype": "text/x-python",
   "name": "python",
   "nbconvert_exporter": "python",
   "pygments_lexer": "ipython3",
   "version": "3.14.0"
  }
 },
 "nbformat": 4,
 "nbformat_minor": 5
}
