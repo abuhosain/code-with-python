{
 "cells": [
  {
   "cell_type": "code",
   "execution_count": 1,
   "id": "eb0da2f1",
   "metadata": {},
   "outputs": [
    {
     "name": "stdout",
     "output_type": "stream",
     "text": [
      "It's raining, take an umbrella!\n"
     ]
    }
   ],
   "source": [
    "raining = True\n",
    "\n",
    "if raining == True:\n",
    "    print(\"It's raining, take an umbrella!\")\n",
    "else:\n",
    "    print(\"It's not raining, enjoy your day!\")"
   ]
  }
 ],
 "metadata": {
  "kernelspec": {
   "display_name": "Python 3",
   "language": "python",
   "name": "python3"
  },
  "language_info": {
   "codemirror_mode": {
    "name": "ipython",
    "version": 3
   },
   "file_extension": ".py",
   "mimetype": "text/x-python",
   "name": "python",
   "nbconvert_exporter": "python",
   "pygments_lexer": "ipython3",
   "version": "3.14.0"
  }
 },
 "nbformat": 4,
 "nbformat_minor": 5
}
