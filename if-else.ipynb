{
 "cells": [
  {
   "cell_type": "code",
   "execution_count": null,
   "id": "eb0da2f1",
   "metadata": {},
   "outputs": [
    {
     "name": "stdout",
     "output_type": "stream",
     "text": [
      "It's raining, take an umbrella!\n"
     ]
    }
   ],
   "source": [
    "raining = True\n",
    "Muddy = False\n",
    "if raining == True:\n",
    "    print(\"It's raining, take an umbrella!\")\n",
    "    if Muddy == True:\n",
    "        print(\"It's also muddy, wear boots!\")\n",
    "    elif Muddy == False:\n",
    "        print(\"It's not muddy, regular shoes are fine.\")\n",
    "else:\n",
    "    print(\"It's not raining, enjoy your day!\")"
   ]
  }
 ],
 "metadata": {
  "kernelspec": {
   "display_name": "Python 3",
   "language": "python",
   "name": "python3"
  },
  "language_info": {
   "codemirror_mode": {
    "name": "ipython",
    "version": 3
   },
   "file_extension": ".py",
   "mimetype": "text/x-python",
   "name": "python",
   "nbconvert_exporter": "python",
   "pygments_lexer": "ipython3",
   "version": "3.14.0"
  }
 },
 "nbformat": 4,
 "nbformat_minor": 5
}
