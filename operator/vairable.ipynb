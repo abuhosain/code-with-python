{
 "cells": [
  {
   "cell_type": "code",
   "execution_count": 3,
   "id": "7eb29f1a",
   "metadata": {},
   "outputs": [
    {
     "name": "stdout",
     "output_type": "stream",
     "text": [
      "34343\n"
     ]
    }
   ],
   "source": [
    "phone_number = 34343\n",
    "print(phone_number)"
   ]
  },
  {
   "cell_type": "code",
   "execution_count": 4,
   "id": "40edf778",
   "metadata": {},
   "outputs": [
    {
     "name": "stdout",
     "output_type": "stream",
     "text": [
      "Hosain\n"
     ]
    }
   ],
   "source": [
    "name = \"Hosain\"\n",
    "print(name)"
   ]
  }
 ],
 "metadata": {
  "kernelspec": {
   "display_name": "Python 3",
   "language": "python",
   "name": "python3"
  },
  "language_info": {
   "codemirror_mode": {
    "name": "ipython",
    "version": 3
   },
   "file_extension": ".py",
   "mimetype": "text/x-python",
   "name": "python",
   "nbconvert_exporter": "python",
   "pygments_lexer": "ipython3",
   "version": "3.14.0"
  }
 },
 "nbformat": 4,
 "nbformat_minor": 5
}
